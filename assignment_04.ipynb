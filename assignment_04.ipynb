{
  "nbformat": 4,
  "nbformat_minor": 0,
  "metadata": {
    "colab": {
      "name": "assignment_04.ipynb",
      "version": "0.3.2",
      "provenance": [],
      "collapsed_sections": [],
      "include_colab_link": true
    },
    "kernelspec": {
      "name": "python3",
      "display_name": "Python 3"
    },
    "accelerator": "GPU"
  },
  "cells": [
    {
      "cell_type": "markdown",
      "metadata": {
        "id": "view-in-github",
        "colab_type": "text"
      },
      "source": [
        "<a href=\"https://colab.research.google.com/github/soheekim911/Standalone_DL/blob/master/assignment_04.ipynb\" target=\"_parent\"><img src=\"https://colab.research.google.com/assets/colab-badge.svg\" alt=\"Open In Colab\"/></a>"
      ]
    },
    {
      "metadata": {
        "id": "eOjgu7WYkGeD",
        "colab_type": "text"
      },
      "cell_type": "markdown",
      "source": [
        "# Assignment4. CIFAR-10 Classification with CNN\n",
        "\n",
        "Lab7에서는 assignment3-CIFAR-10 Classification with MLP 코드의 MLP로 정의된 model arcitecture 부분을 수정하여 CNN으로 바꾸고, 이를 통해 CIFAR-10 dataset의 10-way classification을 CNN을 통해 해보았습니다. 그 과정에서 MLP에서 그러했듯, 다양한 hyperparameter들을 변수화하여 CNN model을 customize할 수 있게하였고, 그 결과 hyperparameter tunning 없이도 test accuracy 73%를 얻어낼 수 있었습니다. 그러나 loss graph 상에서 train / validation loss가 벌어지는 overfitting 현상 또한 볼 수 있었습니다.\n",
        "\n",
        "본 과제에서는 kernel size등 더 다양한 hyperparamteter들을 변수화하여 control할 수 있게하고, l2 regularization, fully connected layer의 dropout 등 다양한 tecnique들을 적용해 CNN 모델의 성능을 더 높여보도록 합시다.\n",
        "\n",
        "\n",
        "### 실험을 완료하신 뒤에는\n",
        "주피터 노트북 파일의 끝 부분에 최종적으로 최적화한 hyperparameter set과 그에 따른 test/validation/train accuracy를 리포트해 주신 뒤 github 링크를 [과제 제출 및 피드백 링크](https://goo.gl/forms/LpHtAMinhIYiiKCY2) 를 통해 제출해주시면 감사하겠습니다."
      ]
    },
    {
      "metadata": {
        "id": "z44A_Gtmj8QX",
        "colab_type": "code",
        "colab": {
          "base_uri": "https://localhost:8080/",
          "height": 34
        },
        "outputId": "62424ae5-c056-4bab-fddd-298d5e0ff97a"
      },
      "cell_type": "code",
      "source": [
        "!mkdir results"
      ],
      "execution_count": 47,
      "outputs": [
        {
          "output_type": "stream",
          "text": [
            "mkdir: cannot create directory ‘results’: File exists\n"
          ],
          "name": "stdout"
        }
      ]
    },
    {
      "metadata": {
        "id": "-awAjq2RkKhs",
        "colab_type": "code",
        "colab": {}
      },
      "cell_type": "code",
      "source": [
        "import torch\n",
        "import torchvision\n",
        "import torchvision.transforms as transforms\n",
        "import torch.nn as nn\n",
        "import torch.nn.functional as F\n",
        "import torch.optim as optim\n",
        "import argparse\n",
        "import numpy as np\n",
        "import time\n",
        "from copy import deepcopy # Add Deepcopy for args\n",
        "import seaborn as sns \n",
        "import matplotlib.pyplot as plt"
      ],
      "execution_count": 0,
      "outputs": []
    },
    {
      "metadata": {
        "id": "WnIDuZLokOmU",
        "colab_type": "code",
        "outputId": "cc8c59c7-d062-4ec4-b8e2-24e7ab0887e9",
        "colab": {
          "base_uri": "https://localhost:8080/",
          "height": 71
        }
      },
      "cell_type": "code",
      "source": [
        "transform = transforms.Compose(\n",
        "    [transforms.ToTensor(),\n",
        "     transforms.Normalize((0.5, 0.5, 0.5), (0.5, 0.5, 0.5))])\n",
        "\n",
        "trainset = torchvision.datasets.CIFAR10(root='./data', train=True,\n",
        "                                        download=True, transform=transform)\n",
        "trainset, valset = torch.utils.data.random_split(trainset, [40000, 10000])\n",
        "testset = torchvision.datasets.CIFAR10(root='./data', train=False,\n",
        "                                       download=True, transform=transform)\n",
        "partition = {'train': trainset, 'val':valset, 'test':testset}"
      ],
      "execution_count": 0,
      "outputs": [
        {
          "output_type": "stream",
          "text": [
            "Downloading https://www.cs.toronto.edu/~kriz/cifar-10-python.tar.gz to ./data/cifar-10-python.tar.gz\n",
            "Files already downloaded and verified\n"
          ],
          "name": "stdout"
        }
      ]
    },
    {
      "metadata": {
        "id": "SGte7e-9kP10",
        "colab_type": "code",
        "colab": {}
      },
      "cell_type": "code",
      "source": [
        "cfg = {\n",
        "    'VGG11': [64, 'M', 128, 'M', 256, 256, 'M', 512, 512, 'M', 512, 512, 'M'],\n",
        "    'VGG13': [64, 64, 'M', 128, 128, 'M', 256, 256, 'M', 512, 512, 'M', 512, 512, 'M'],\n",
        "    'VGG16': [64, 64, 'M', 128, 128, 'M', 256, 256, 256, 'M', 512, 512, 512, 'M', 512, 512, 512, 'M'],\n",
        "    'VGG19': [64, 64, 'M', 128, 128, 'M', 256, 256, 256, 256, 'M', 512, 512, 512, 512, 'M', 512, 512, 512, 512, 'M']\n",
        "}"
      ],
      "execution_count": 0,
      "outputs": []
    },
    {
      "metadata": {
        "id": "nKg8O5T-kRLN",
        "colab_type": "code",
        "colab": {}
      },
      "cell_type": "code",
      "source": [
        "class CNN(nn.Module):\n",
        "    \n",
        "    def __init__(self, model_code, in_channels, use_bn):\n",
        "        super(CNN, self).__init__()\n",
        "        \n",
        "        self.layers = self._make_layers(model_code, in_channels, use_bn)\n",
        "        self.classifier = nn.Sequential(nn.Linear(512, 4096),\n",
        "                                        nn.ReLU(),\n",
        "                                        nn.Linear(4096, 10))\n",
        "        \n",
        "    def forward(self, x):\n",
        "        for layer in self.layers:\n",
        "            x = layer(x)\n",
        "        x = x.view(x.size(0), -1)\n",
        "        x = self.classifier(x)\n",
        "        return x\n",
        "\n",
        "    def _make_layers(self, model_code, in_channels, use_bn):\n",
        "        layers = nn.ModuleList()\n",
        "        for x in cfg[model_code]:\n",
        "            if x != 'M':\n",
        "                layers.append(nn.Conv2d(in_channels=in_channels,\n",
        "                                        out_channels=x,\n",
        "                                        kernel_size=3,\n",
        "                                        stride=1,\n",
        "                                        padding=1))\n",
        "                if use_bn:\n",
        "                    layers += [nn.BatchNorm2d(x)]\n",
        "                layers.append(nn.ReLU())\n",
        "                in_channels = x\n",
        "            else:\n",
        "                layers.append(nn.MaxPool2d(kernel_size=2,\n",
        "                                           stride=2))\n",
        "        return layers"
      ],
      "execution_count": 0,
      "outputs": []
    },
    {
      "metadata": {
        "id": "AFEeNyegkSZL",
        "colab_type": "code",
        "colab": {}
      },
      "cell_type": "code",
      "source": [
        "class Net(nn.Module):\n",
        "    def __init__(self):\n",
        "        super(Net, self).__init__()\n",
        "        self.conv1 = nn.Conv2d(3, 6, 5)\n",
        "        self.pool = nn.MaxPool2d(2, 2)\n",
        "        self.conv2 = nn.Conv2d(6, 16, 5)\n",
        "        self.fc1 = nn.Linear(16 * 5 * 5, 120)\n",
        "        self.fc2 = nn.Linear(120, 84)\n",
        "        self.fc3 = nn.Linear(84, 10)\n",
        "\n",
        "    def forward(self, x):\n",
        "        x = self.pool(F.relu(self.conv1(x)))\n",
        "        x = self.pool(F.relu(self.conv2(x)))\n",
        "        x = x.view(-1, 16 * 5 * 5)\n",
        "        x = F.relu(self.fc1(x))\n",
        "        x = F.relu(self.fc2(x))\n",
        "        x = self.fc3(x)\n",
        "        return x"
      ],
      "execution_count": 0,
      "outputs": []
    },
    {
      "metadata": {
        "id": "lAhLfCRHkTsL",
        "colab_type": "code",
        "colab": {}
      },
      "cell_type": "code",
      "source": [
        "def dimesion_check():\n",
        "    net = CNN('VGG19', 3)\n",
        "    x = torch.randn(2, 3, 32, 32)\n",
        "    y = net(x)\n",
        "    print(y.shape)"
      ],
      "execution_count": 0,
      "outputs": []
    },
    {
      "metadata": {
        "id": "AkhMNWQ7kYgK",
        "colab_type": "text"
      },
      "cell_type": "markdown",
      "source": [
        "## Train, Validate, Test and Experiment"
      ]
    },
    {
      "metadata": {
        "id": "KgcYKUa9kVeK",
        "colab_type": "code",
        "colab": {}
      },
      "cell_type": "code",
      "source": [
        "def train(net, partition, optimizer, criterion, args):\n",
        "    trainloader = torch.utils.data.DataLoader(partition['train'], \n",
        "                                              batch_size=args.train_batch_size, \n",
        "                                              shuffle=True, num_workers=2)\n",
        "    net.train()\n",
        "    optimizer.zero_grad()\n",
        "\n",
        "    correct = 0\n",
        "    total = 0\n",
        "    train_loss = 0.0\n",
        "    for i, data in enumerate(trainloader, 0):\n",
        "        # get the inputs\n",
        "        inputs, labels = data\n",
        "        inputs = inputs.cuda()\n",
        "        labels = labels.cuda()\n",
        "        outputs = net(inputs)\n",
        "\n",
        "        loss = criterion(outputs, labels)\n",
        "        loss.backward()\n",
        "        optimizer.step()\n",
        "\n",
        "        train_loss += loss.item()\n",
        "        _, predicted = torch.max(outputs.data, 1)\n",
        "        total += labels.size(0)\n",
        "        correct += (predicted == labels).sum().item()\n",
        "\n",
        "    train_loss = train_loss / len(trainloader)\n",
        "    train_acc = 100 * correct / total\n",
        "    return net, train_loss, train_acc"
      ],
      "execution_count": 0,
      "outputs": []
    },
    {
      "metadata": {
        "id": "-0vmfClZkaNB",
        "colab_type": "code",
        "colab": {}
      },
      "cell_type": "code",
      "source": [
        "def validate(net, partition, criterion, args):\n",
        "    valloader = torch.utils.data.DataLoader(partition['val'], \n",
        "                                            batch_size=args.test_batch_size, \n",
        "                                            shuffle=False, num_workers=2)\n",
        "    net.eval()\n",
        "\n",
        "    correct = 0\n",
        "    total = 0\n",
        "    val_loss = 0 \n",
        "    with torch.no_grad():\n",
        "        for data in valloader:\n",
        "            images, labels = data\n",
        "            images = images.cuda()\n",
        "            labels = labels.cuda()\n",
        "            outputs = net(images)\n",
        "\n",
        "            loss = criterion(outputs, labels)\n",
        "            \n",
        "            val_loss += loss.item()\n",
        "            _, predicted = torch.max(outputs.data, 1)\n",
        "            total += labels.size(0)\n",
        "            correct += (predicted == labels).sum().item()\n",
        "\n",
        "        val_loss = val_loss / len(valloader)\n",
        "        val_acc = 100 * correct / total\n",
        "    return val_loss, val_acc"
      ],
      "execution_count": 0,
      "outputs": []
    },
    {
      "metadata": {
        "id": "CL2ibg_Fkcb6",
        "colab_type": "code",
        "colab": {}
      },
      "cell_type": "code",
      "source": [
        "def test(net, partition, args):\n",
        "    testloader = torch.utils.data.DataLoader(partition['test'], \n",
        "                                             batch_size=args.test_batch_size, \n",
        "                                             shuffle=False, num_workers=2)\n",
        "    net.eval()\n",
        "    \n",
        "    correct = 0\n",
        "    total = 0\n",
        "    with torch.no_grad():\n",
        "        for data in testloader:\n",
        "            images, labels = data\n",
        "            images = images.cuda()\n",
        "            labels = labels.cuda()\n",
        "\n",
        "            outputs = net(images)\n",
        "            _, predicted = torch.max(outputs.data, 1)\n",
        "            total += labels.size(0)\n",
        "            correct += (predicted == labels).sum().item()\n",
        "\n",
        "        test_acc = 100 * correct / total\n",
        "    return test_acc"
      ],
      "execution_count": 0,
      "outputs": []
    },
    {
      "metadata": {
        "id": "yjZGGltMkf7T",
        "colab_type": "text"
      },
      "cell_type": "markdown",
      "source": [
        "## Define Experiment"
      ]
    },
    {
      "metadata": {
        "id": "qgWms9fjkd_6",
        "colab_type": "code",
        "colab": {}
      },
      "cell_type": "code",
      "source": [
        "def experiment(partition, args):\n",
        "  \n",
        "    net = CNN(model_code = args.model_code,\n",
        "              in_channels = args.in_channels,\n",
        "              use_bn = args.use_bn)\n",
        "    net.cuda()\n",
        "\n",
        "    criterion = nn.CrossEntropyLoss()\n",
        "    if args.optim == 'SGD':\n",
        "        optimizer = optim.SGD(net.parameters(), lr=args.lr, weight_decay=args.l2)\n",
        "    elif args.optim == 'RMSprop':\n",
        "        optimizer = optim.RMSprop(net.parameters(), lr=args.lr, weight_decay=args.l2)\n",
        "    elif args.optim == 'Adam':\n",
        "        optimizer = optim.Adam(net.parameters(), lr=args.lr, weight_decay=args.l2)\n",
        "    else:\n",
        "        raise ValueError('In-valid optimizer choice')\n",
        "    \n",
        "    train_losses = []\n",
        "    val_losses = []\n",
        "    train_accs = []\n",
        "    val_accs = []\n",
        "        \n",
        "    for epoch in range(args.epoch):  # loop over the dataset multiple times\n",
        "        ts = time.time()\n",
        "        net, train_loss, train_acc = train(net, partition, optimizer, criterion, args)\n",
        "        val_loss, val_acc = validate(net, partition, criterion, args)\n",
        "        te = time.time()\n",
        "        \n",
        "        train_losses.append(train_loss)\n",
        "        val_losses.append(val_loss)\n",
        "        train_accs.append(train_acc)\n",
        "        val_accs.append(val_acc)\n",
        "        \n",
        "        print('Epoch {}, Acc(train/val): {:2.2f}/{:2.2f}, Loss(train/val) {:2.2f}/{:2.2f}. Took {:2.2f} sec'.format(epoch, train_acc, val_acc, train_loss, val_loss, te-ts))\n",
        "        \n",
        "    test_acc = test(net, partition, args)    \n",
        "    \n",
        "    result = {}\n",
        "    result['train_losses'] = train_losses\n",
        "    result['val_losses'] = val_losses\n",
        "    result['train_accs'] = train_accs\n",
        "    result['val_accs'] = val_accs\n",
        "    result['train_acc'] = train_acc\n",
        "    result['val_acc'] = val_acc\n",
        "    result['test_acc'] = test_acc\n",
        "    return vars(args), result"
      ],
      "execution_count": 0,
      "outputs": []
    },
    {
      "metadata": {
        "id": "-eY_TTGTkmWZ",
        "colab_type": "text"
      },
      "cell_type": "markdown",
      "source": [
        "## Manage Experiment Result"
      ]
    },
    {
      "metadata": {
        "id": "3l0H9KRrkkhK",
        "colab_type": "code",
        "colab": {}
      },
      "cell_type": "code",
      "source": [
        "import hashlib\n",
        "import json\n",
        "from os import listdir\n",
        "from os.path import isfile, join\n",
        "import pandas as pd\n",
        "\n",
        "def save_exp_result(setting, result):\n",
        "    exp_name = setting['exp_name']\n",
        "    del setting['epoch']\n",
        "    del setting['test_batch_size']\n",
        "\n",
        "    hash_key = hashlib.sha1(str(setting).encode()).hexdigest()[:6]\n",
        "    filename = './results/{}-{}.json'.format(exp_name, hash_key)\n",
        "    result.update(setting)\n",
        "    with open(filename, 'w') as f:\n",
        "        json.dump(result, f)\n",
        "\n",
        "    \n",
        "def load_exp_result(exp_name):\n",
        "    dir_path = './results'\n",
        "    filenames = [f for f in listdir(dir_path) if isfile(join(dir_path, f)) if '.json' in f]\n",
        "    list_result = []\n",
        "    for filename in filenames:\n",
        "        if exp_name in filename:\n",
        "            with open(join(dir_path, filename), 'r') as infile:\n",
        "                results = json.load(infile)\n",
        "                list_result.append(results)\n",
        "    df = pd.DataFrame(list_result) # .drop(columns=[])\n",
        "    return df"
      ],
      "execution_count": 0,
      "outputs": []
    },
    {
      "metadata": {
        "id": "VZIG-DkykrIx",
        "colab_type": "text"
      },
      "cell_type": "markdown",
      "source": [
        "## Visualization Utility"
      ]
    },
    {
      "metadata": {
        "id": "dL-jYa0Bkp4i",
        "colab_type": "code",
        "colab": {}
      },
      "cell_type": "code",
      "source": [
        "def plot_acc(var1, var2, df):\n",
        "\n",
        "    fig, ax = plt.subplots(1, 3)\n",
        "    fig.set_size_inches(15, 6)\n",
        "    sns.set_style(\"darkgrid\", {\"axes.facecolor\": \".9\"})\n",
        "\n",
        "    sns.barplot(x=var1, y='train_acc', hue=var2, data=df, ax=ax[0])\n",
        "    sns.barplot(x=var1, y='val_acc', hue=var2, data=df, ax=ax[1])\n",
        "    sns.barplot(x=var1, y='test_acc', hue=var2, data=df, ax=ax[2])\n",
        "    \n",
        "    ax[0].set_title('Train Accuracy')\n",
        "    ax[1].set_title('Validation Accuracy')\n",
        "    ax[2].set_title('Test Accuracy')\n",
        "\n",
        "    \n",
        "def plot_loss_variation(var1, var2, df, **kwargs):\n",
        "\n",
        "    list_v1 = df[var1].unique()\n",
        "    list_v2 = df[var2].unique()\n",
        "    list_data = []\n",
        "\n",
        "    for value1 in list_v1:\n",
        "        for value2 in list_v2:\n",
        "            row = df.loc[df[var1]==value1]\n",
        "            row = row.loc[df[var2]==value2]\n",
        "\n",
        "            train_losses = list(row.train_losses)[0]\n",
        "            val_losses = list(row.val_losses)[0]\n",
        "\n",
        "            for epoch, train_loss in enumerate(train_losses):\n",
        "                list_data.append({'type':'train', 'loss':train_loss, 'epoch':epoch, var1:value1, var2:value2})\n",
        "            for epoch, val_loss in enumerate(val_losses):\n",
        "                list_data.append({'type':'val', 'loss':val_loss, 'epoch':epoch, var1:value1, var2:value2})\n",
        "\n",
        "    df = pd.DataFrame(list_data)\n",
        "    g = sns.FacetGrid(df, row=var2, col=var1, hue='type', **kwargs)\n",
        "    g = g.map(plt.plot, 'epoch', 'loss', marker='.')\n",
        "    g.add_legend()\n",
        "    g.fig.suptitle('Train loss vs Val loss')\n",
        "    plt.subplots_adjust(top=0.89) # 만약 Title이 그래프랑 겹친다면 top 값을 조정해주면 됩니다! 함수 인자로 받으면 그래프마다 조절할 수 있겠죠?\n",
        "\n",
        "\n",
        "def plot_acc_variation(var1, var2, df, **kwargs):\n",
        "    list_v1 = df[var1].unique()\n",
        "    list_v2 = df[var2].unique()\n",
        "    list_data = []\n",
        "\n",
        "    for value1 in list_v1:\n",
        "        for value2 in list_v2:\n",
        "            row = df.loc[df[var1]==value1]\n",
        "            row = row.loc[df[var2]==value2]\n",
        "\n",
        "            train_accs = list(row.train_accs)[0]\n",
        "            val_accs = list(row.val_accs)[0]\n",
        "            test_acc = list(row.test_acc)[0]\n",
        "\n",
        "            for epoch, train_acc in enumerate(train_accs):\n",
        "                list_data.append({'type':'train', 'Acc':train_acc, 'test_acc':test_acc, 'epoch':epoch, var1:value1, var2:value2})\n",
        "            for epoch, val_acc in enumerate(val_accs):\n",
        "                list_data.append({'type':'val', 'Acc':val_acc, 'test_acc':test_acc, 'epoch':epoch, var1:value1, var2:value2})\n",
        "\n",
        "    df = pd.DataFrame(list_data)\n",
        "    g = sns.FacetGrid(df, row=var2, col=var1, hue='type', **kwargs)\n",
        "    g = g.map(plt.plot, 'epoch', 'Acc', marker='.')\n",
        "\n",
        "    def show_acc(x, y, metric, **kwargs):\n",
        "        plt.scatter(x, y, alpha=0.3, s=1)\n",
        "        metric = \"Test Acc: {:1.3f}\".format(list(metric.values)[0])\n",
        "        plt.text(0.05, 0.95, metric,  horizontalalignment='left', verticalalignment='center', transform=plt.gca().transAxes, bbox=dict(facecolor='yellow', alpha=0.5, boxstyle=\"round,pad=0.1\"))\n",
        "    g = g.map(show_acc, 'epoch', 'Acc', 'test_acc')\n",
        "\n",
        "    g.add_legend()\n",
        "    g.fig.suptitle('Train Accuracy vs Val Accuracy')\n",
        "    plt.subplots_adjust(top=0.89)"
      ],
      "execution_count": 0,
      "outputs": []
    },
    {
      "metadata": {
        "id": "4chNHPhWV50H",
        "colab_type": "text"
      },
      "cell_type": "markdown",
      "source": [
        "## EXP0. lr vs optim"
      ]
    },
    {
      "metadata": {
        "id": "z0wS3yzKktzJ",
        "colab_type": "code",
        "outputId": "a53428b4-39c2-474d-ce32-3460407c0638",
        "colab": {
          "base_uri": "https://localhost:8080/",
          "height": 1159
        }
      },
      "cell_type": "code",
      "source": [
        "# ====== Random Seed Initialization ====== #\n",
        "seed = 123\n",
        "np.random.seed(seed)\n",
        "torch.manual_seed(seed)\n",
        "\n",
        "parser = argparse.ArgumentParser()\n",
        "args = parser.parse_args(\"\")\n",
        "args.exp_name = \"exp1_lr_optim\"\n",
        "\n",
        "# ====== Model Capacity ====== #\n",
        "args.act = 'relu'\n",
        "\n",
        "# ====== Regularization ======= #\n",
        "args.l2 = 0.00001\n",
        "\n",
        "# ====== Optimizer & Training ====== #\n",
        "args.optim = 'RMSprop' #'RMSprop' #SGD, RMSprop, ADAM...\n",
        "args.lr = 0.0015\n",
        "args.epoch = 10\n",
        "\n",
        "args.train_batch_size = 512\n",
        "args.test_batch_size = 1024\n",
        "\n",
        "# ====== Experiment Variable ====== #\n",
        "name_var1 = 'lr'\n",
        "name_var2 = 'optim'\n",
        "list_var1 = [0.0001, 0.00001]\n",
        "list_var2 = ['SGD','RMSprop','Adam']\n",
        "\n",
        "\n",
        "for var1 in list_var1:\n",
        "    for var2 in list_var2:\n",
        "        setattr(args, name_var1, var1)\n",
        "        setattr(args, name_var2, var2)\n",
        "        print(args)\n",
        "                \n",
        "        setting, result = experiment(partition, deepcopy(args))\n",
        "        save_exp_result(setting, result)"
      ],
      "execution_count": 0,
      "outputs": [
        {
          "output_type": "stream",
          "text": [
            "Namespace(act='relu', epoch=10, exp_name='exp1_lr_optim', l2=1e-05, lr=0.0001, optim='SGD', test_batch_size=1024, train_batch_size=512)\n",
            "Epoch 0, Acc(train/val): 9.89/10.44, Loss(train/val) 2.30/2.30. Took 197.56 sec\n",
            "Epoch 1, Acc(train/val): 9.89/10.44, Loss(train/val) 2.30/2.30. Took 197.41 sec\n",
            "Epoch 2, Acc(train/val): 9.89/10.44, Loss(train/val) 2.30/2.30. Took 197.48 sec\n",
            "Epoch 3, Acc(train/val): 9.89/10.44, Loss(train/val) 2.30/2.30. Took 197.43 sec\n",
            "Epoch 4, Acc(train/val): 9.89/10.44, Loss(train/val) 2.30/2.30. Took 197.28 sec\n",
            "Epoch 5, Acc(train/val): 9.89/10.44, Loss(train/val) 2.30/2.30. Took 197.46 sec\n",
            "Epoch 6, Acc(train/val): 9.89/10.44, Loss(train/val) 2.30/2.30. Took 197.38 sec\n",
            "Epoch 7, Acc(train/val): 9.89/10.44, Loss(train/val) 2.30/2.30. Took 197.29 sec\n",
            "Epoch 8, Acc(train/val): 9.85/9.48, Loss(train/val) 2.30/2.30. Took 197.24 sec\n",
            "Epoch 9, Acc(train/val): 10.13/9.48, Loss(train/val) 2.30/2.30. Took 197.31 sec\n",
            "Namespace(act='relu', epoch=10, exp_name='exp1_lr_optim', l2=1e-05, lr=0.0001, optim='RMSprop', test_batch_size=1024, train_batch_size=512)\n",
            "Epoch 0, Acc(train/val): 10.12/9.97, Loss(train/val) 2.30/2.30. Took 196.24 sec\n",
            "Epoch 1, Acc(train/val): 9.90/9.97, Loss(train/val) 2.30/2.30. Took 195.38 sec\n",
            "Epoch 2, Acc(train/val): 9.60/10.21, Loss(train/val) 2.30/2.30. Took 195.33 sec\n",
            "Epoch 3, Acc(train/val): 9.80/9.48, Loss(train/val) 2.30/2.30. Took 195.30 sec\n",
            "Epoch 4, Acc(train/val): 10.80/9.88, Loss(train/val) 2.30/2.30. Took 195.17 sec\n",
            "Epoch 5, Acc(train/val): 12.79/16.88, Loss(train/val) 2.27/2.16. Took 195.20 sec\n",
            "Epoch 6, Acc(train/val): 17.84/20.25, Loss(train/val) 2.10/2.04. Took 195.32 sec\n",
            "Epoch 7, Acc(train/val): 21.03/22.93, Loss(train/val) 2.00/1.95. Took 195.23 sec\n",
            "Epoch 8, Acc(train/val): 23.97/25.31, Loss(train/val) 1.93/1.88. Took 195.37 sec\n",
            "Epoch 9, Acc(train/val): 25.42/26.06, Loss(train/val) 1.88/1.87. Took 195.25 sec\n",
            "Namespace(act='relu', epoch=10, exp_name='exp1_lr_optim', l2=1e-05, lr=0.0001, optim='Adam', test_batch_size=1024, train_batch_size=512)\n",
            "Epoch 0, Acc(train/val): 9.87/9.80, Loss(train/val) 2.30/2.30. Took 197.23 sec\n",
            "Epoch 1, Acc(train/val): 9.88/10.01, Loss(train/val) 2.30/2.30. Took 197.43 sec\n",
            "Epoch 2, Acc(train/val): 9.76/9.88, Loss(train/val) 2.30/2.30. Took 197.36 sec\n",
            "Epoch 3, Acc(train/val): 9.81/10.21, Loss(train/val) 2.30/2.30. Took 197.38 sec\n",
            "Epoch 4, Acc(train/val): 9.95/10.01, Loss(train/val) 2.30/2.30. Took 197.36 sec\n",
            "Epoch 5, Acc(train/val): 9.79/9.80, Loss(train/val) 2.30/2.30. Took 197.33 sec\n",
            "Epoch 6, Acc(train/val): 9.66/9.48, Loss(train/val) 2.30/2.30. Took 197.12 sec\n",
            "Epoch 7, Acc(train/val): 9.88/9.97, Loss(train/val) 2.30/2.30. Took 197.13 sec\n",
            "Epoch 8, Acc(train/val): 9.76/9.88, Loss(train/val) 2.30/2.30. Took 197.24 sec\n",
            "Epoch 9, Acc(train/val): 9.80/9.48, Loss(train/val) 2.30/2.30. Took 197.24 sec\n",
            "Namespace(act='relu', epoch=10, exp_name='exp1_lr_optim', l2=1e-05, lr=1e-05, optim='SGD', test_batch_size=1024, train_batch_size=512)\n",
            "Epoch 0, Acc(train/val): 9.97/10.11, Loss(train/val) 2.30/2.30. Took 197.77 sec\n",
            "Epoch 1, Acc(train/val): 9.97/10.11, Loss(train/val) 2.30/2.30. Took 197.78 sec\n",
            "Epoch 2, Acc(train/val): 9.97/10.11, Loss(train/val) 2.30/2.30. Took 197.64 sec\n",
            "Epoch 3, Acc(train/val): 9.97/10.11, Loss(train/val) 2.30/2.30. Took 197.10 sec\n",
            "Epoch 4, Acc(train/val): 9.97/10.11, Loss(train/val) 2.30/2.30. Took 197.18 sec\n",
            "Epoch 5, Acc(train/val): 9.97/10.11, Loss(train/val) 2.30/2.30. Took 197.34 sec\n",
            "Epoch 6, Acc(train/val): 9.97/10.11, Loss(train/val) 2.30/2.30. Took 197.18 sec\n",
            "Epoch 7, Acc(train/val): 9.97/10.11, Loss(train/val) 2.30/2.30. Took 197.23 sec\n",
            "Epoch 8, Acc(train/val): 9.97/10.11, Loss(train/val) 2.30/2.30. Took 197.35 sec\n",
            "Epoch 9, Acc(train/val): 9.97/10.11, Loss(train/val) 2.30/2.30. Took 197.27 sec\n",
            "Namespace(act='relu', epoch=10, exp_name='exp1_lr_optim', l2=1e-05, lr=1e-05, optim='RMSprop', test_batch_size=1024, train_batch_size=512)\n",
            "Epoch 0, Acc(train/val): 9.99/9.48, Loss(train/val) 2.30/2.30. Took 197.71 sec\n",
            "Epoch 1, Acc(train/val): 10.08/9.88, Loss(train/val) 2.30/2.30. Took 197.46 sec\n",
            "Epoch 2, Acc(train/val): 9.83/9.80, Loss(train/val) 2.30/2.30. Took 197.43 sec\n",
            "Epoch 3, Acc(train/val): 9.64/9.97, Loss(train/val) 2.30/2.30. Took 197.60 sec\n",
            "Epoch 4, Acc(train/val): 9.71/9.48, Loss(train/val) 2.30/2.30. Took 197.48 sec\n",
            "Epoch 5, Acc(train/val): 9.94/9.97, Loss(train/val) 2.30/2.30. Took 197.53 sec\n",
            "Epoch 6, Acc(train/val): 9.93/9.48, Loss(train/val) 2.30/2.30. Took 197.53 sec\n",
            "Epoch 7, Acc(train/val): 9.98/10.01, Loss(train/val) 2.30/2.30. Took 197.38 sec\n",
            "Epoch 8, Acc(train/val): 9.83/9.80, Loss(train/val) 2.30/2.30. Took 197.46 sec\n",
            "Epoch 9, Acc(train/val): 10.04/9.48, Loss(train/val) 2.30/2.30. Took 197.56 sec\n",
            "Namespace(act='relu', epoch=10, exp_name='exp1_lr_optim', l2=1e-05, lr=1e-05, optim='Adam', test_batch_size=1024, train_batch_size=512)\n",
            "Epoch 0, Acc(train/val): 9.96/9.97, Loss(train/val) 2.30/2.30. Took 197.26 sec\n",
            "Epoch 1, Acc(train/val): 10.07/10.21, Loss(train/val) 2.30/2.30. Took 197.25 sec\n",
            "Epoch 2, Acc(train/val): 9.82/9.97, Loss(train/val) 2.30/2.30. Took 197.23 sec\n",
            "Epoch 3, Acc(train/val): 9.94/10.11, Loss(train/val) 2.30/2.30. Took 197.23 sec\n",
            "Epoch 4, Acc(train/val): 9.98/9.80, Loss(train/val) 2.30/2.30. Took 197.38 sec\n",
            "Epoch 5, Acc(train/val): 9.85/9.97, Loss(train/val) 2.30/2.30. Took 197.27 sec\n",
            "Epoch 6, Acc(train/val): 9.75/9.48, Loss(train/val) 2.30/2.30. Took 197.24 sec\n",
            "Epoch 7, Acc(train/val): 9.96/10.01, Loss(train/val) 2.30/2.30. Took 197.35 sec\n",
            "Epoch 8, Acc(train/val): 9.68/9.48, Loss(train/val) 2.30/2.30. Took 197.27 sec\n",
            "Epoch 9, Acc(train/val): 9.83/9.97, Loss(train/val) 2.30/2.30. Took 197.16 sec\n"
          ],
          "name": "stdout"
        }
      ]
    },
    {
      "metadata": {
        "id": "MK8BA6aoT_0g",
        "colab_type": "code",
        "outputId": "3fdc7861-923a-4d8e-f79d-902d5b614328",
        "colab": {
          "base_uri": "https://localhost:8080/",
          "height": 34
        }
      },
      "cell_type": "code",
      "source": [
        "!cd results | ls"
      ],
      "execution_count": 0,
      "outputs": [
        {
          "output_type": "stream",
          "text": [
            "data  results  sample_data\n"
          ],
          "name": "stdout"
        }
      ]
    },
    {
      "metadata": {
        "id": "ZFK2Zc6VlEXz",
        "colab_type": "code",
        "outputId": "6a3fee91-cd39-4f24-e858-5664d609c432",
        "colab": {
          "base_uri": "https://localhost:8080/",
          "height": 1089
        }
      },
      "cell_type": "code",
      "source": [
        "var1 = 'lr'\n",
        "var2 = 'optim'\n",
        "df = load_exp_result('exp1')\n",
        "\n",
        "plot_acc(var1, var2, df)\n",
        "plot_loss_variation(var1, var2, df, sharey=False) #sharey를 True로 하면 모둔 subplot의 y축의 스케일이 같아집니다.\n",
        "plot_acc_variation(var1, var2, df, margin_titles=True, sharey=True) #margin_titles를 True로 하면 그래프의 가장자리에 var1과 var2 값이 표시되고 False로 하면 각 subplot 위에 표시됩니다."
      ],
      "execution_count": 0,
      "outputs": [
        {
          "output_type": "error",
          "ename": "ValueError",
          "evalue": "ignored",
          "traceback": [
            "\u001b[0;31m---------------------------------------------------------------------------\u001b[0m",
            "\u001b[0;31mValueError\u001b[0m                                Traceback (most recent call last)",
            "\u001b[0;32m<ipython-input-21-c4a91819799a>\u001b[0m in \u001b[0;36m<module>\u001b[0;34m()\u001b[0m\n\u001b[1;32m      3\u001b[0m \u001b[0mdf\u001b[0m \u001b[0;34m=\u001b[0m \u001b[0mload_exp_result\u001b[0m\u001b[0;34m(\u001b[0m\u001b[0;34m'exp1'\u001b[0m\u001b[0;34m)\u001b[0m\u001b[0;34m\u001b[0m\u001b[0;34m\u001b[0m\u001b[0m\n\u001b[1;32m      4\u001b[0m \u001b[0;34m\u001b[0m\u001b[0m\n\u001b[0;32m----> 5\u001b[0;31m \u001b[0mplot_acc\u001b[0m\u001b[0;34m(\u001b[0m\u001b[0mvar1\u001b[0m\u001b[0;34m,\u001b[0m \u001b[0mvar2\u001b[0m\u001b[0;34m,\u001b[0m \u001b[0mdf\u001b[0m\u001b[0;34m)\u001b[0m\u001b[0;34m\u001b[0m\u001b[0;34m\u001b[0m\u001b[0m\n\u001b[0m\u001b[1;32m      6\u001b[0m \u001b[0mplot_loss_variation\u001b[0m\u001b[0;34m(\u001b[0m\u001b[0mvar1\u001b[0m\u001b[0;34m,\u001b[0m \u001b[0mvar2\u001b[0m\u001b[0;34m,\u001b[0m \u001b[0mdf\u001b[0m\u001b[0;34m,\u001b[0m \u001b[0msharey\u001b[0m\u001b[0;34m=\u001b[0m\u001b[0;32mFalse\u001b[0m\u001b[0;34m)\u001b[0m \u001b[0;31m#sharey를 True로 하면 모둔 subplot의 y축의 스케일이 같아집니다.\u001b[0m\u001b[0;34m\u001b[0m\u001b[0;34m\u001b[0m\u001b[0m\n\u001b[1;32m      7\u001b[0m \u001b[0mplot_acc_variation\u001b[0m\u001b[0;34m(\u001b[0m\u001b[0mvar1\u001b[0m\u001b[0;34m,\u001b[0m \u001b[0mvar2\u001b[0m\u001b[0;34m,\u001b[0m \u001b[0mdf\u001b[0m\u001b[0;34m,\u001b[0m \u001b[0mmargin_titles\u001b[0m\u001b[0;34m=\u001b[0m\u001b[0;32mTrue\u001b[0m\u001b[0;34m,\u001b[0m \u001b[0msharey\u001b[0m\u001b[0;34m=\u001b[0m\u001b[0;32mTrue\u001b[0m\u001b[0;34m)\u001b[0m \u001b[0;31m#margin_titles를 True로 하면 그래프의 가장자리에 var1과 var2 값이 표시되고 False로 하면 각 subplot 위에 표시됩니다.\u001b[0m\u001b[0;34m\u001b[0m\u001b[0;34m\u001b[0m\u001b[0m\n",
            "\u001b[0;32m<ipython-input-16-c895bf21b11e>\u001b[0m in \u001b[0;36mplot_acc\u001b[0;34m(var1, var2, df)\u001b[0m\n\u001b[1;32m      5\u001b[0m     \u001b[0msns\u001b[0m\u001b[0;34m.\u001b[0m\u001b[0mset_style\u001b[0m\u001b[0;34m(\u001b[0m\u001b[0;34m\"darkgrid\"\u001b[0m\u001b[0;34m,\u001b[0m \u001b[0;34m{\u001b[0m\u001b[0;34m\"axes.facecolor\"\u001b[0m\u001b[0;34m:\u001b[0m \u001b[0;34m\".9\"\u001b[0m\u001b[0;34m}\u001b[0m\u001b[0;34m)\u001b[0m\u001b[0;34m\u001b[0m\u001b[0;34m\u001b[0m\u001b[0m\n\u001b[1;32m      6\u001b[0m \u001b[0;34m\u001b[0m\u001b[0m\n\u001b[0;32m----> 7\u001b[0;31m     \u001b[0msns\u001b[0m\u001b[0;34m.\u001b[0m\u001b[0mbarplot\u001b[0m\u001b[0;34m(\u001b[0m\u001b[0mx\u001b[0m\u001b[0;34m=\u001b[0m\u001b[0mvar1\u001b[0m\u001b[0;34m,\u001b[0m \u001b[0my\u001b[0m\u001b[0;34m=\u001b[0m\u001b[0;34m'train_acc'\u001b[0m\u001b[0;34m,\u001b[0m \u001b[0mhue\u001b[0m\u001b[0;34m=\u001b[0m\u001b[0mvar2\u001b[0m\u001b[0;34m,\u001b[0m \u001b[0mdata\u001b[0m\u001b[0;34m=\u001b[0m\u001b[0mdf\u001b[0m\u001b[0;34m,\u001b[0m \u001b[0max\u001b[0m\u001b[0;34m=\u001b[0m\u001b[0max\u001b[0m\u001b[0;34m[\u001b[0m\u001b[0;36m0\u001b[0m\u001b[0;34m]\u001b[0m\u001b[0;34m)\u001b[0m\u001b[0;34m\u001b[0m\u001b[0;34m\u001b[0m\u001b[0m\n\u001b[0m\u001b[1;32m      8\u001b[0m     \u001b[0msns\u001b[0m\u001b[0;34m.\u001b[0m\u001b[0mbarplot\u001b[0m\u001b[0;34m(\u001b[0m\u001b[0mx\u001b[0m\u001b[0;34m=\u001b[0m\u001b[0mvar1\u001b[0m\u001b[0;34m,\u001b[0m \u001b[0my\u001b[0m\u001b[0;34m=\u001b[0m\u001b[0;34m'val_acc'\u001b[0m\u001b[0;34m,\u001b[0m \u001b[0mhue\u001b[0m\u001b[0;34m=\u001b[0m\u001b[0mvar2\u001b[0m\u001b[0;34m,\u001b[0m \u001b[0mdata\u001b[0m\u001b[0;34m=\u001b[0m\u001b[0mdf\u001b[0m\u001b[0;34m,\u001b[0m \u001b[0max\u001b[0m\u001b[0;34m=\u001b[0m\u001b[0max\u001b[0m\u001b[0;34m[\u001b[0m\u001b[0;36m1\u001b[0m\u001b[0;34m]\u001b[0m\u001b[0;34m)\u001b[0m\u001b[0;34m\u001b[0m\u001b[0;34m\u001b[0m\u001b[0m\n\u001b[1;32m      9\u001b[0m     \u001b[0msns\u001b[0m\u001b[0;34m.\u001b[0m\u001b[0mbarplot\u001b[0m\u001b[0;34m(\u001b[0m\u001b[0mx\u001b[0m\u001b[0;34m=\u001b[0m\u001b[0mvar1\u001b[0m\u001b[0;34m,\u001b[0m \u001b[0my\u001b[0m\u001b[0;34m=\u001b[0m\u001b[0;34m'test_acc'\u001b[0m\u001b[0;34m,\u001b[0m \u001b[0mhue\u001b[0m\u001b[0;34m=\u001b[0m\u001b[0mvar2\u001b[0m\u001b[0;34m,\u001b[0m \u001b[0mdata\u001b[0m\u001b[0;34m=\u001b[0m\u001b[0mdf\u001b[0m\u001b[0;34m,\u001b[0m \u001b[0max\u001b[0m\u001b[0;34m=\u001b[0m\u001b[0max\u001b[0m\u001b[0;34m[\u001b[0m\u001b[0;36m2\u001b[0m\u001b[0;34m]\u001b[0m\u001b[0;34m)\u001b[0m\u001b[0;34m\u001b[0m\u001b[0;34m\u001b[0m\u001b[0m\n",
            "\u001b[0;32m/usr/local/lib/python3.6/dist-packages/seaborn/categorical.py\u001b[0m in \u001b[0;36mbarplot\u001b[0;34m(x, y, hue, data, order, hue_order, estimator, ci, n_boot, units, orient, color, palette, saturation, errcolor, errwidth, capsize, ax, **kwargs)\u001b[0m\n\u001b[1;32m   2897\u001b[0m                           \u001b[0mestimator\u001b[0m\u001b[0;34m,\u001b[0m \u001b[0mci\u001b[0m\u001b[0;34m,\u001b[0m \u001b[0mn_boot\u001b[0m\u001b[0;34m,\u001b[0m \u001b[0munits\u001b[0m\u001b[0;34m,\u001b[0m\u001b[0;34m\u001b[0m\u001b[0;34m\u001b[0m\u001b[0m\n\u001b[1;32m   2898\u001b[0m                           \u001b[0morient\u001b[0m\u001b[0;34m,\u001b[0m \u001b[0mcolor\u001b[0m\u001b[0;34m,\u001b[0m \u001b[0mpalette\u001b[0m\u001b[0;34m,\u001b[0m \u001b[0msaturation\u001b[0m\u001b[0;34m,\u001b[0m\u001b[0;34m\u001b[0m\u001b[0;34m\u001b[0m\u001b[0m\n\u001b[0;32m-> 2899\u001b[0;31m                           errcolor, errwidth, capsize)\n\u001b[0m\u001b[1;32m   2900\u001b[0m \u001b[0;34m\u001b[0m\u001b[0m\n\u001b[1;32m   2901\u001b[0m     \u001b[0;32mif\u001b[0m \u001b[0max\u001b[0m \u001b[0;32mis\u001b[0m \u001b[0;32mNone\u001b[0m\u001b[0;34m:\u001b[0m\u001b[0;34m\u001b[0m\u001b[0;34m\u001b[0m\u001b[0m\n",
            "\u001b[0;32m/usr/local/lib/python3.6/dist-packages/seaborn/categorical.py\u001b[0m in \u001b[0;36m__init__\u001b[0;34m(self, x, y, hue, data, order, hue_order, estimator, ci, n_boot, units, orient, color, palette, saturation, errcolor, errwidth, capsize)\u001b[0m\n\u001b[1;32m   1541\u001b[0m         \u001b[0;34m\"\"\"Initialize the plotter.\"\"\"\u001b[0m\u001b[0;34m\u001b[0m\u001b[0;34m\u001b[0m\u001b[0m\n\u001b[1;32m   1542\u001b[0m         self.establish_variables(x, y, hue, data, orient,\n\u001b[0;32m-> 1543\u001b[0;31m                                  order, hue_order, units)\n\u001b[0m\u001b[1;32m   1544\u001b[0m         \u001b[0mself\u001b[0m\u001b[0;34m.\u001b[0m\u001b[0mestablish_colors\u001b[0m\u001b[0;34m(\u001b[0m\u001b[0mcolor\u001b[0m\u001b[0;34m,\u001b[0m \u001b[0mpalette\u001b[0m\u001b[0;34m,\u001b[0m \u001b[0msaturation\u001b[0m\u001b[0;34m)\u001b[0m\u001b[0;34m\u001b[0m\u001b[0;34m\u001b[0m\u001b[0m\n\u001b[1;32m   1545\u001b[0m         \u001b[0mself\u001b[0m\u001b[0;34m.\u001b[0m\u001b[0mestimate_statistic\u001b[0m\u001b[0;34m(\u001b[0m\u001b[0mestimator\u001b[0m\u001b[0;34m,\u001b[0m \u001b[0mci\u001b[0m\u001b[0;34m,\u001b[0m \u001b[0mn_boot\u001b[0m\u001b[0;34m)\u001b[0m\u001b[0;34m\u001b[0m\u001b[0;34m\u001b[0m\u001b[0m\n",
            "\u001b[0;32m/usr/local/lib/python3.6/dist-packages/seaborn/categorical.py\u001b[0m in \u001b[0;36mestablish_variables\u001b[0;34m(self, x, y, hue, data, orient, order, hue_order, units)\u001b[0m\n\u001b[1;32m    149\u001b[0m                 \u001b[0;32mif\u001b[0m \u001b[0misinstance\u001b[0m\u001b[0;34m(\u001b[0m\u001b[0minput\u001b[0m\u001b[0;34m,\u001b[0m \u001b[0mstring_types\u001b[0m\u001b[0;34m)\u001b[0m\u001b[0;34m:\u001b[0m\u001b[0;34m\u001b[0m\u001b[0;34m\u001b[0m\u001b[0m\n\u001b[1;32m    150\u001b[0m                     \u001b[0merr\u001b[0m \u001b[0;34m=\u001b[0m \u001b[0;34m\"Could not interpret input '{}'\"\u001b[0m\u001b[0;34m.\u001b[0m\u001b[0mformat\u001b[0m\u001b[0;34m(\u001b[0m\u001b[0minput\u001b[0m\u001b[0;34m)\u001b[0m\u001b[0;34m\u001b[0m\u001b[0;34m\u001b[0m\u001b[0m\n\u001b[0;32m--> 151\u001b[0;31m                     \u001b[0;32mraise\u001b[0m \u001b[0mValueError\u001b[0m\u001b[0;34m(\u001b[0m\u001b[0merr\u001b[0m\u001b[0;34m)\u001b[0m\u001b[0;34m\u001b[0m\u001b[0;34m\u001b[0m\u001b[0m\n\u001b[0m\u001b[1;32m    152\u001b[0m \u001b[0;34m\u001b[0m\u001b[0m\n\u001b[1;32m    153\u001b[0m             \u001b[0;31m# Figure out the plotting orientation\u001b[0m\u001b[0;34m\u001b[0m\u001b[0;34m\u001b[0m\u001b[0;34m\u001b[0m\u001b[0m\n",
            "\u001b[0;31mValueError\u001b[0m: Could not interpret input 'lr'"
          ]
        },
        {
          "output_type": "display_data",
          "data": {
            "image/png": "[encoded data removed]",
            "text/plain": [
              "<Figure size 1080x432 with 3 Axes>"
            ]
          },
          "metadata": {
            "tags": []
          }
        }
      ]
    },
    {
      "metadata": {
        "id": "ayeUJk3iyA6U",
        "colab_type": "text"
      },
      "cell_type": "markdown",
      "source": [
        "Exp0의 문제점\n",
        "\n",
        "\n",
        "1) 1 epoch 당 훈련시간이  3분 이상 걸린다.  2) 0.0001/RMSprop인 경우 빼고는 학습이 거의 일어나지 않았다... 이유가 뭘까.\n",
        "3) 학습시간이 너무 길어서 중간에 런타임 연결이 자꾸 끊긴다.."
      ]
    },
    {
      "metadata": {
        "id": "UTX9TnjfkwZD",
        "colab_type": "text"
      },
      "cell_type": "markdown",
      "source": [
        "## Exp1.lr vs optim\n",
        "\n"
      ]
    },
    {
      "metadata": {
        "id": "1fkUGZEOlTxW",
        "colab_type": "code",
        "outputId": "089b57f7-a829-446d-c206-3740cef0c696",
        "colab": {
          "base_uri": "https://localhost:8080/",
          "height": 1159
        }
      },
      "cell_type": "code",
      "source": [
        "# ====== Random Seed Initialization ====== #\n",
        "seed = 123\n",
        "np.random.seed(seed)\n",
        "torch.manual_seed(seed)\n",
        "\n",
        "parser = argparse.ArgumentParser()\n",
        "args = parser.parse_args(\"\")\n",
        "args.exp_name = \"exp1_model_optim\"\n",
        "\n",
        "# ====== Model  ====== #\n",
        "args.model_code = 'VGG11'\n",
        "args.in_channels = 3\n",
        "args.act = 'relu'\n",
        "\n",
        "\n",
        "# ====== Regularization ======= #\n",
        "args.l2 = 0.00001\n",
        "args.use_bn = True\n",
        "\n",
        "# ====== Optimizer & Training ====== #\n",
        "args.optim = 'RMSprop' #'RMSprop' #SGD, RMSprop, ADAM...\n",
        "args.lr = 0.0015\n",
        "args.epoch = 10\n",
        "\n",
        "args.train_batch_size = 256\n",
        "args.test_batch_size = 1024\n",
        "\n",
        "# ====== Experiment Variable ====== #\n",
        "name_var1 = 'model_code'\n",
        "name_var2 = 'act'\n",
        "list_var1 = ['VGG11','VGG13','VGG16']\n",
        "list_var2 = ['RMSprop','SGD']\n",
        "\n",
        "\n",
        "for var1 in list_var1:\n",
        "    for var2 in list_var2:\n",
        "        setattr(args, name_var1, var1)\n",
        "        setattr(args, name_var2, var2)\n",
        "        print(args)\n",
        "                \n",
        "        setting, result = experiment(partition, deepcopy(args))\n",
        "        save_exp_result(setting, result)"
      ],
      "execution_count": 0,
      "outputs": [
        {
          "output_type": "stream",
          "text": [
            "Namespace(act='RMSprop', epoch=10, exp_name='exp1_model_optim', in_channels=3, l2=1e-05, lr=0.0015, model_code='VGG11', optim='RMSprop', test_batch_size=1024, train_batch_size=256, use_bn=True)\n",
            "Epoch 0, Acc(train/val): 10.52/10.73, Loss(train/val) 3.51/2.48. Took 89.91 sec\n",
            "Epoch 1, Acc(train/val): 10.49/10.57, Loss(train/val) 2.30/2.30. Took 90.35 sec\n",
            "Epoch 2, Acc(train/val): 11.26/11.56, Loss(train/val) 2.30/2.29. Took 90.46 sec\n",
            "Epoch 3, Acc(train/val): 11.71/13.33, Loss(train/val) 2.29/2.28. Took 90.29 sec\n",
            "Epoch 4, Acc(train/val): 13.53/16.06, Loss(train/val) 2.26/2.19. Took 90.13 sec\n",
            "Epoch 5, Acc(train/val): 20.01/22.49, Loss(train/val) 2.08/1.97. Took 90.34 sec\n",
            "Epoch 6, Acc(train/val): 26.42/28.87, Loss(train/val) 1.88/1.83. Took 90.46 sec\n",
            "Epoch 7, Acc(train/val): 32.88/34.46, Loss(train/val) 1.73/1.71. Took 90.23 sec\n",
            "Epoch 8, Acc(train/val): 38.30/39.17, Loss(train/val) 1.61/1.58. Took 90.45 sec\n",
            "Epoch 9, Acc(train/val): 42.91/43.19, Loss(train/val) 1.50/1.54. Took 90.37 sec\n",
            "Namespace(act='SGD', epoch=10, exp_name='exp1_model_optim', in_channels=3, l2=1e-05, lr=0.0015, model_code='VGG11', optim='RMSprop', test_batch_size=1024, train_batch_size=256, use_bn=True)\n",
            "Epoch 0, Acc(train/val): 11.18/10.77, Loss(train/val) 3.48/2.45. Took 90.71 sec\n",
            "Epoch 1, Acc(train/val): 12.46/13.41, Loss(train/val) 2.26/2.22. Took 90.56 sec\n",
            "Epoch 2, Acc(train/val): 14.81/17.02, Loss(train/val) 2.19/2.14. Took 90.70 sec\n",
            "Epoch 3, Acc(train/val): 17.15/17.94, Loss(train/val) 2.12/2.09. Took 90.52 sec\n",
            "Epoch 4, Acc(train/val): 20.02/22.22, Loss(train/val) 1.99/1.92. Took 90.52 sec\n",
            "Epoch 5, Acc(train/val): 22.54/22.52, Loss(train/val) 1.88/1.94. Took 90.64 sec\n",
            "Epoch 6, Acc(train/val): 25.95/25.97, Loss(train/val) 1.82/1.86. Took 90.71 sec\n",
            "Epoch 7, Acc(train/val): 28.70/30.68, Loss(train/val) 1.76/1.76. Took 90.47 sec\n",
            "Epoch 8, Acc(train/val): 34.76/36.28, Loss(train/val) 1.67/1.65. Took 90.35 sec\n",
            "Epoch 9, Acc(train/val): 43.10/45.25, Loss(train/val) 1.49/1.44. Took 90.38 sec\n",
            "Namespace(act='RMSprop', epoch=10, exp_name='exp1_model_optim', in_channels=3, l2=1e-05, lr=0.0015, model_code='VGG13', optim='RMSprop', test_batch_size=1024, train_batch_size=256, use_bn=True)\n",
            "Epoch 0, Acc(train/val): 11.71/9.41, Loss(train/val) 3.41/67.38. Took 112.87 sec\n",
            "Epoch 1, Acc(train/val): 14.22/15.64, Loss(train/val) 2.21/2.33. Took 112.59 sec\n",
            "Epoch 2, Acc(train/val): 16.35/15.38, Loss(train/val) 2.15/6.36. Took 112.79 sec\n",
            "Epoch 3, Acc(train/val): 19.13/16.38, Loss(train/val) 2.05/2.44. Took 112.91 sec\n",
            "Epoch 4, Acc(train/val): 21.25/19.85, Loss(train/val) 1.93/2.04. Took 113.08 sec\n",
            "Epoch 5, Acc(train/val): 23.42/24.72, Loss(train/val) 1.88/1.89. Took 112.94 sec\n",
            "Epoch 6, Acc(train/val): 26.88/27.88, Loss(train/val) 1.81/1.84. Took 112.75 sec\n",
            "Epoch 7, Acc(train/val): 29.08/30.61, Loss(train/val) 1.77/1.77. Took 112.93 sec\n",
            "Epoch 8, Acc(train/val): 34.62/34.28, Loss(train/val) 1.69/1.75. Took 112.80 sec\n",
            "Epoch 9, Acc(train/val): 41.75/39.77, Loss(train/val) 1.52/1.60. Took 112.71 sec\n",
            "Namespace(act='SGD', epoch=10, exp_name='exp1_model_optim', in_channels=3, l2=1e-05, lr=0.0015, model_code='VGG13', optim='RMSprop', test_batch_size=1024, train_batch_size=256, use_bn=True)\n",
            "Epoch 0, Acc(train/val): 10.32/9.37, Loss(train/val) 3.12/2.30. Took 113.14 sec\n",
            "Epoch 1, Acc(train/val): 10.37/9.49, Loss(train/val) 2.30/2.30. Took 112.70 sec\n",
            "Epoch 2, Acc(train/val): 10.59/10.13, Loss(train/val) 2.30/2.30. Took 112.89 sec\n",
            "Epoch 3, Acc(train/val): 11.07/12.00, Loss(train/val) 2.30/2.29. Took 112.93 sec\n",
            "Epoch 4, Acc(train/val): 14.72/17.43, Loss(train/val) 2.21/2.14. Took 112.80 sec\n",
            "Epoch 5, Acc(train/val): 19.12/22.09, Loss(train/val) 2.09/2.02. Took 112.71 sec\n",
            "Epoch 6, Acc(train/val): 23.92/27.76, Loss(train/val) 1.96/1.90. Took 112.30 sec\n",
            "Epoch 7, Acc(train/val): 30.50/32.23, Loss(train/val) 1.80/1.77. Took 112.88 sec\n",
            "Epoch 8, Acc(train/val): 35.98/34.33, Loss(train/val) 1.66/1.72. Took 113.19 sec\n",
            "Epoch 9, Acc(train/val): 42.16/41.68, Loss(train/val) 1.54/1.56. Took 113.03 sec\n",
            "Namespace(act='RMSprop', epoch=10, exp_name='exp1_model_optim', in_channels=3, l2=1e-05, lr=0.0015, model_code='VGG16', optim='RMSprop', test_batch_size=1024, train_batch_size=256, use_bn=True)\n",
            "Epoch 0, Acc(train/val): 10.97/12.27, Loss(train/val) 2.96/2.51. Took 163.70 sec\n",
            "Epoch 1, Acc(train/val): 12.28/12.62, Loss(train/val) 2.27/2.25. Took 162.80 sec\n",
            "Epoch 2, Acc(train/val): 13.87/15.83, Loss(train/val) 2.23/2.19. Took 163.00 sec\n",
            "Epoch 3, Acc(train/val): 17.41/21.11, Loss(train/val) 2.11/2.07. Took 162.63 sec\n",
            "Epoch 4, Acc(train/val): 22.44/21.00, Loss(train/val) 1.95/1.99. Took 162.76 sec\n",
            "Epoch 5, Acc(train/val): 26.07/27.04, Loss(train/val) 1.85/1.84. Took 162.41 sec\n",
            "Epoch 6, Acc(train/val): 29.48/28.14, Loss(train/val) 1.77/1.88. Took 162.91 sec\n",
            "Epoch 7, Acc(train/val): 33.29/31.70, Loss(train/val) 1.68/1.83. Took 161.36 sec\n",
            "Epoch 8, Acc(train/val): 37.83/40.07, Loss(train/val) 1.57/1.55. Took 160.89 sec\n",
            "Epoch 9, Acc(train/val): 41.82/43.40, Loss(train/val) 1.50/1.49. Took 161.77 sec\n",
            "Namespace(act='SGD', epoch=10, exp_name='exp1_model_optim', in_channels=3, l2=1e-05, lr=0.0015, model_code='VGG16', optim='RMSprop', test_batch_size=1024, train_batch_size=256, use_bn=True)\n",
            "Epoch 0, Acc(train/val): 13.13/14.40, Loss(train/val) 2.89/24.54. Took 163.36 sec\n",
            "Epoch 1, Acc(train/val): 15.80/17.61, Loss(train/val) 2.16/2.25. Took 162.71 sec\n",
            "Epoch 2, Acc(train/val): 18.25/17.18, Loss(train/val) 2.09/2.16. Took 162.81 sec\n",
            "Epoch 3, Acc(train/val): 20.06/17.88, Loss(train/val) 2.00/2.61. Took 162.53 sec\n",
            "Epoch 4, Acc(train/val): 21.62/22.70, Loss(train/val) 1.93/1.96. Took 163.29 sec\n",
            "Epoch 5, Acc(train/val): 22.54/22.24, Loss(train/val) 1.88/1.88. Took 162.59 sec\n",
            "Epoch 6, Acc(train/val): 24.48/20.74, Loss(train/val) 1.83/2.52. Took 162.45 sec\n",
            "Epoch 7, Acc(train/val): 26.68/26.21, Loss(train/val) 1.79/1.94. Took 162.40 sec\n",
            "Epoch 8, Acc(train/val): 30.38/24.22, Loss(train/val) 1.73/2.19. Took 161.85 sec\n",
            "Epoch 9, Acc(train/val): 35.63/37.78, Loss(train/val) 1.63/1.61. Took 160.21 sec\n"
          ],
          "name": "stdout"
        }
      ]
    },
    {
      "metadata": {
        "id": "GIP2_yP_lVz2",
        "colab_type": "code",
        "outputId": "8788d533-2bca-41aa-ad4f-2589629d58cc",
        "colab": {
          "base_uri": "https://localhost:8080/",
          "height": 883
        }
      },
      "cell_type": "code",
      "source": [
        "var1 = 'model_code'\n",
        "var2 = 'optim'\n",
        "df = load_exp_result('exp1')\n",
        "\n",
        "plot_acc(var1, var2, df)\n",
        "plot_loss_variation(var1, var2, df, sharey=False) #sharey를 True로 하면 모둔 subplot의 y축의 스케일이 같아집니다.\n",
        "plot_acc_variation(var1, var2, df, margin_titles=True, sharey=True) #margin_titles를 True로 하면 그래프의 가장자리에 var1과 var2 값이 표시되고 False로 하면 각 subplot 위에 표시됩니다."
      ],
      "execution_count": 0,
      "outputs": [
        {
          "output_type": "stream",
          "text": [
            "/usr/local/lib/python3.6/dist-packages/seaborn/categorical.py:1468: FutureWarning: remove_na is deprecated and is a private function. Do not use.\n",
            "  stat_data = remove_na(group_data[hue_mask])\n"
          ],
          "name": "stderr"
        },
        {
          "output_type": "display_data",
          "data": {
            "image/png": "[encoded data removed]",
            "text/plain": [
              "<Figure size 1080x432 with 3 Axes>"
            ]
          },
          "metadata": {
            "tags": []
          }
        },
        {
          "output_type": "display_data",
          "data": {
            "image/png": "[encoded data removed]",
            "text/plain": [
              "<Figure size 703.375x216 with 3 Axes>"
            ]
          },
          "metadata": {
            "tags": []
          }
        },
        {
          "output_type": "display_data",
          "data": {
            "image/png": "[encoded data removed]",
            "text/plain": [
              "<Figure size 703.375x216 with 3 Axes>"
            ]
          },
          "metadata": {
            "tags": []
          }
        }
      ]
    },
    {
      "metadata": {
        "id": "Pqa5cI-aWRcW",
        "colab_type": "text"
      },
      "cell_type": "markdown",
      "source": [
        "학습이 되긴 했는데 val acc가 40%...\n",
        "VGG넷 중 가장 깊은 것(VGG19)을 사용하고 학습률을 높여보기로 한다."
      ]
    },
    {
      "metadata": {
        "id": "V4weLN4RlMSm",
        "colab_type": "text"
      },
      "cell_type": "markdown",
      "source": [
        "## Exp2. use_bn=True /dropout/ lr vs optim"
      ]
    },
    {
      "metadata": {
        "id": "POrP7ycwF-eU",
        "colab_type": "code",
        "colab": {}
      },
      "cell_type": "code",
      "source": [
        "class CNN2(nn.Module):\n",
        "    \n",
        "    def __init__(self, model_code, in_channels, use_bn, dropout):\n",
        "        super(CNN2, self).__init__()\n",
        "        \n",
        "        self.layers = self._make_layers(model_code, in_channels, use_bn)\n",
        "        self.classifier = nn.Sequential(nn.Linear(512, 4096),\n",
        "                                        nn.ReLU(),\n",
        "                                        nn.Linear(4096, 10))\n",
        "        \n",
        "        self.dropout= nn.Dropout()\n",
        "        \n",
        "    def forward(self, x):\n",
        "        for layer in self.layers:\n",
        "            x = layer(x)\n",
        "        x = x.view(x.size(0), -1)\n",
        "        x = self.dropout(x)\n",
        "        x = self.classifier(x)\n",
        "        return x\n",
        "\n",
        "    def _make_layers(self, model_code, in_channels, use_bn):\n",
        "        layers = nn.ModuleList()\n",
        "        for x in cfg[model_code]:\n",
        "            if x != 'M':\n",
        "                layers.append(nn.Conv2d(in_channels=in_channels,\n",
        "                                        out_channels=x,\n",
        "                                        kernel_size=3,\n",
        "                                        stride=2,\n",
        "                                        padding=1))\n",
        "                if use_bn:\n",
        "                    layers += [nn.BatchNorm2d(x)]\n",
        "                layers.append(nn.ReLU())\n",
        "                in_channels = x\n",
        "            else:\n",
        "                layers.append(nn.MaxPool2d(kernel_size=2,\n",
        "                                           stride=2))\n",
        "        return layers"
      ],
      "execution_count": 0,
      "outputs": []
    },
    {
      "metadata": {
        "id": "VNFXx50KGVv8",
        "colab_type": "code",
        "colab": {}
      },
      "cell_type": "code",
      "source": [
        "def experiment(partition, args):\n",
        "  \n",
        "    net = CNN2(model_code = args.model_code,\n",
        "              in_channels = args.in_channels,\n",
        "              dropout = args.dropout,\n",
        "              use_bn = args.use_bn)\n",
        "    net.cuda()\n",
        "\n",
        "    criterion = nn.CrossEntropyLoss()\n",
        "    if args.optim == 'SGD':\n",
        "        optimizer = optim.SGD(net.parameters(), lr=args.lr, weight_decay=args.l2)\n",
        "    elif args.optim == 'RMSprop':\n",
        "        optimizer = optim.RMSprop(net.parameters(), lr=args.lr, weight_decay=args.l2)\n",
        "    elif args.optim == 'Adam':\n",
        "        optimizer = optim.Adam(net.parameters(), lr=args.lr, weight_decay=args.l2)\n",
        "    else:\n",
        "        raise ValueError('In-valid optimizer choice')\n",
        "    \n",
        "    train_losses = []\n",
        "    val_losses = []\n",
        "    train_accs = []\n",
        "    val_accs = []\n",
        "        \n",
        "    for epoch in range(args.epoch):  # loop over the dataset multiple times\n",
        "        ts = time.time()\n",
        "        net, train_loss, train_acc = train(net, partition, optimizer, criterion, args)\n",
        "        val_loss, val_acc = validate(net, partition, criterion, args)\n",
        "        te = time.time()\n",
        "        \n",
        "        train_losses.append(train_loss)\n",
        "        val_losses.append(val_loss)\n",
        "        train_accs.append(train_acc)\n",
        "        val_accs.append(val_acc)\n",
        "        \n",
        "        print('Epoch {}, Acc(train/val): {:2.2f}/{:2.2f}, Loss(train/val) {:2.2f}/{:2.2f}. Took {:2.2f} sec'.format(epoch, train_acc, val_acc, train_loss, val_loss, te-ts))\n",
        "        \n",
        "    test_acc = test(net, partition, args)    \n",
        "    \n",
        "    result = {}\n",
        "    result['train_losses'] = train_losses\n",
        "    result['val_losses'] = val_losses\n",
        "    result['train_accs'] = train_accs\n",
        "    result['val_accs'] = val_accs\n",
        "    result['train_acc'] = train_acc\n",
        "    result['val_acc'] = val_acc\n",
        "    result['test_acc'] = test_acc\n",
        "    return vars(args), result"
      ],
      "execution_count": 0,
      "outputs": []
    },
    {
      "metadata": {
        "id": "Fqrw9eKBGcJq",
        "colab_type": "code",
        "outputId": "376b2324-2e9b-4240-f581-a44c0a02f0fc",
        "colab": {
          "base_uri": "https://localhost:8080/",
          "height": 190
        }
      },
      "cell_type": "code",
      "source": [
        "# ====== Random Seed Initialization ====== #\n",
        "seed = 123\n",
        "np.random.seed(seed)\n",
        "torch.manual_seed(seed)\n",
        "\n",
        "parser = argparse.ArgumentParser()\n",
        "args = parser.parse_args(\"\")\n",
        "args.exp_name = \"exp2_model_optim\"\n",
        "\n",
        "# ====== Model  ====== #\n",
        "args.model_code = 'VGG19'\n",
        "args.in_channels = 3\n",
        "args.act = 'relu'\n",
        "\n",
        "\n",
        "# ====== Regularization ======= #\n",
        "args.dropout = 0.3\n",
        "args.l2 = 0.00001\n",
        "args.use_bn = True\n",
        "\n",
        "# ====== Optimizer & Training ====== #\n",
        "args.dropout = 0.2\n",
        "args.optim = 'RMSprop' #'RMSprop' #SGD, RMSprop, ADAM...\n",
        "args.lr = 0.001\n",
        "args.epoch = 10\n",
        "\n",
        "args.train_batch_size = 512\n",
        "args.test_batch_size = 1024\n",
        "\n",
        "# ====== Experiment Variable ====== #\n",
        "name_var1 = 'lr'\n",
        "name_var2 = 'optim'\n",
        "list_var1 = [0.01,0.001]\n",
        "list_var2 = ['RMSprop','SGD']\n",
        "\n",
        "\n",
        "for var1 in list_var1:\n",
        "    for var2 in list_var2:\n",
        "        setattr(args, name_var1, var1)\n",
        "        setattr(args, name_var2, var2)\n",
        "        print(args)\n",
        "                \n",
        "        setting, result = experiment(partition, deepcopy(args))\n",
        "        save_exp_result(setting, result)"
      ],
      "execution_count": 0,
      "outputs": [
        {
          "output_type": "stream",
          "text": [
            "Namespace(act='relu', dropout=0.2, epoch=10, exp_name='exp2_model_optim', in_channels=3, l2=1e-05, lr=0.01, model_code='VGG19', optim='RMSprop', test_batch_size=1024, train_batch_size=512, use_bn=True)\n",
            "Epoch 0, Acc(train/val): 9.91/8.46, Loss(train/val) 10.21/4.42. Took 293.76 sec\n",
            "Epoch 1, Acc(train/val): 10.06/10.17, Loss(train/val) 2.37/2.31. Took 289.25 sec\n",
            "Epoch 2, Acc(train/val): 9.76/9.94, Loss(train/val) 2.35/2.31. Took 288.36 sec\n",
            "Epoch 3, Acc(train/val): 10.10/9.83, Loss(train/val) 2.33/2.31. Took 288.61 sec\n",
            "Epoch 4, Acc(train/val): 10.19/10.41, Loss(train/val) 2.32/2.31. Took 289.02 sec\n",
            "Epoch 5, Acc(train/val): 10.27/9.79, Loss(train/val) 2.32/2.31. Took 288.84 sec\n",
            "Epoch 6, Acc(train/val): 9.97/10.60, Loss(train/val) 2.34/2.31. Took 290.40 sec\n",
            "Epoch 7, Acc(train/val): 10.44/10.97, Loss(train/val) 2.32/2.31. Took 290.46 sec\n"
          ],
          "name": "stdout"
        }
      ]
    },
    {
      "metadata": {
        "id": "dLxaz0GNMTTt",
        "colab_type": "code",
        "colab": {}
      },
      "cell_type": "code",
      "source": [
        "var1 = 'lr'\n",
        "var2 = 'optim'\n",
        "df = load_exp_result('exp2')\n",
        "\n",
        "plot_acc(var1, var2, df)\n",
        "plot_loss_variation(var1, var2, df, sharey=False) #sharey를 True로 하면 모둔 subplot의 y축의 스케일이 같아집니다.\n",
        "plot_acc_variation(var1, var2, df, margin_titles=True, sharey=True) #margin_titles를 True로 하면 그래프의 가장자리에 var1과 var2 값이 표시되고 False로 하면 각 subplot 위에 표시됩니다."
      ],
      "execution_count": 0,
      "outputs": []
    },
    {
      "metadata": {
        "id": "04zEw-MMWnVe",
        "colab_type": "text"
      },
      "cell_type": "markdown",
      "source": [
        "학습시간이 Exp0보다도 길다. epoch 당 거의 5분.. layer가 많아서 그런 것 같은데 acc는 증가하지 않는다ㅠ"
      ]
    },
    {
      "metadata": {
        "id": "-iu8MgmZW2VM",
        "colab_type": "code",
        "colab": {}
      },
      "cell_type": "code",
      "source": [
        ""
      ],
      "execution_count": 0,
      "outputs": []
    }
  ]
}