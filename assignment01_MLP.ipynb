{
  "nbformat": 4,
  "nbformat_minor": 0,
  "metadata": {
    "colab": {
      "name": "assignment01_MLP",
      "version": "0.3.2",
      "provenance": [],
      "collapsed_sections": [],
      "include_colab_link": true
    },
    "kernelspec": {
      "display_name": "Python (comet2)",
      "language": "python",
      "name": "comet2"
    }
  },
  "cells": [
    {
      "cell_type": "markdown",
      "metadata": {
        "id": "view-in-github",
        "colab_type": "text"
      },
      "source": [
        "<a href=\"https://colab.research.google.com/github/soheekim911/Standalone_DL/blob/master/assignment01_MLP.ipynb\" target=\"_parent\"><img src=\"https://colab.research.google.com/assets/colab-badge.svg\" alt=\"Open In Colab\"/></a>"
      ]
    },
    {
      "metadata": {
        "id": "R7tT88rd-2zf",
        "colab_type": "text"
      },
      "cell_type": "markdown",
      "source": [
        "# Assignment1. MNIST Digit Recogntion\n",
        "\n",
        "이 과제에서는 손으로 쓴 숫자들의 이미지를 input으로 받아서 0~9 중 어느 숫자에 해당하는지를 분류하는 10-way Classification Problem을 풀어 볼 겁니다. 지금까지 실습은 가상의 인공 데이터셋이었다면 이번에는 real-world 데이터셋이니 좀 더 설레지 않나요?\n",
        "\n",
        "`pytorch` 내에 이미 구현되어 있는 MNIST Dataset을 사용하여 데이터가 공급됩니다.  \n",
        "대신 여러분들은 Model을 짜고 올바르게 Loss Function을 활용하는 코드를 작성하는데 집중해주시길 바랍니다.  \n",
        "\n",
        "1. 현재 Linear Model만 구현이 되어 있습니다. MLP Model을 2.Model Architecture 부분에 구현해주세요.\n",
        "2. MLP Model을 생성할 때 hidden unit 수와 hidden layer 수를 인풋으로 넣어주면 해당 값으로 MLP가 자동으로 생성되게 하는 코드를 구현해보세요.  \n",
        "3. 다양한 hidden_unit과 hidden_layer 그리고 learning rate를 바꿔가면서 정확도의 변화를 알려주세요(이 때 모델이 고정되었다면 learning rate부터 바꿔가면서 튜닝해보세요. 차트나 표를 자유롭게 활용하여 결과를 보여주세요.  \n",
        "4. 실험했던 결과 중 Test Set에 대한 Accuracy가 가장 높았던 실험 조건과 그때의 Accuracy를 알려주세요!  \n",
        "5. 양식은 따로 없으며 이 주피터 노트북의 뒷부분에 추가로 1~4의 내용을 덧붙여서 정리하면 되겠습니다!\n",
        "\n",
        "**과제 시 도저히 해결할 수 없는 애러나 질문 사항은 제 깃허브의 [Issue](https://github.com/heartcored98/Standalone-DeepLearning/issues)란에 새 이슈를 남겨주세요**\n",
        "\n",
        "**Due** : 2019-01-23 22:00  \n",
        "**How to Submit** : 여러분의 깃허브 저장소를 만드신 후 작업한 .ipynb 파일을 올려주신 후 파일의 url 주소를 강의 피드백 설문 중 과제 제출 섹션에 남겨주세요! 그럼 저희가 파일을 하나하나 다운받고 열람할 필요 없이 온라인 상에서 바로 확인하기에 용이합니다 :)\n",
        "\n",
        "\n",
        "**이 문서를 구글 Colab에서 쉽게 실행해보는법**  \n",
        "1. [제가 미리 만들어놓은 이 링크](https://colab.research.google.com/github/heartcored98/Standalone-DeepLearning/blob/master/Lec2/Assignment1_pytorch_MNIST_MLP.ipynb)를 눌러 본 .ipynb 파일을 구글 Colab에서 바로 열 수 있습니다. 이때 구글에 로그인을 해야 합니다.\n",
        "2. 아무 셀이나 선택한 후 `Ctrl+Enter`를 눌러 실행해보면 **[경고: 이 노트는 Google에서 작성하지 않았습니다]**라고 뜨는데 `실행 전에 모든 런타임 재설정`을 선택한 채로 `무시하고 계속하기`를 눌러줍니다.  \n",
        "3. **[모든 런타임 재설정]** 이 뜰 텐데 `예`를 눌러줍니다.  \n",
        "4. 잠시 구글 서버의 배치가 되면서 우상단에 `연결중` -> `초기화중` -> `연결됨`이 뜨면서 실행이 가능한 상태가 됩니다.  \n",
        "\n",
        "**구글 Colab에서 실습후 저장하는법**  \n",
        "**쉽게 실행보는법**을 따라오셨다면 Colab에서 임시 노트북으로 열리기 때문에 `파일`->`드라이브로 저장`을 눌러서 여러분의 구글 드라이브에 저장하거나 `파일` -> `.ipynb 다운로드`를 눌러서 다운로드 해줍시다.   \n",
        "\n",
        "*Written by. 조재영(whwodud9@kaist.ac.kr) 2019.01.21 *"
      ]
    },
    {
      "metadata": {
        "id": "pUnWzqYv-2zi",
        "colab_type": "text"
      },
      "cell_type": "markdown",
      "source": [
        "### Install Pytorch 1.0 (For Google Colab)"
      ]
    },
    {
      "metadata": {
        "id": "dWdfRMUA-2zl",
        "colab_type": "code",
        "outputId": "2ac7ef3f-e9d2-490e-8ad1-452a4a5e6af9",
        "colab": {
          "base_uri": "https://localhost:8080/",
          "height": 72
        }
      },
      "cell_type": "code",
      "source": [
        "!pip install -q torch==1.0.0 torchvision\n",
        "import torch\n",
        "print(torch.__version__)\n"
      ],
      "execution_count": 1,
      "outputs": [
        {
          "output_type": "stream",
          "text": [
            "tcmalloc: large alloc 1073750016 bytes == 0x562df769a000 @  0x7f45f561d2a4 0x562d96955f18 0x562d96a49a85 0x562d969694ca 0x562d9696e232 0x562d96966d0a 0x562d9696e5fe 0x562d96966d0a 0x562d9696e5fe 0x562d96966d0a 0x562d9696e5fe 0x562d96966d0a 0x562d9696ec38 0x562d96966d0a 0x562d9696e5fe 0x562d96966d0a 0x562d9696e5fe 0x562d9696e232 0x562d9696e232 0x562d96966d0a 0x562d9696ec38 0x562d9696e232 0x562d96966d0a 0x562d9696ec38 0x562d96966d0a 0x562d9696ec38 0x562d96966d0a 0x562d9696e5fe 0x562d96966d0a 0x562d96966629 0x562d9699761f\n",
            "1.0.0\n"
          ],
          "name": "stdout"
        }
      ]
    },
    {
      "metadata": {
        "colab_type": "text",
        "id": "23sQEXhSfY4I"
      },
      "cell_type": "markdown",
      "source": [
        "### 1. Data Preparation"
      ]
    },
    {
      "metadata": {
        "id": "fmUObZgA-2zs",
        "colab_type": "text"
      },
      "cell_type": "markdown",
      "source": [
        "**Data Set**  \n",
        "$$X_{train} \\in \\mathcal{R}^{50000 \\times 784}, Y_{train} \\in \\mathcal{Z}^{50000}$$  \n",
        "$$X_{val} \\in \\mathcal{R}^{10000 \\times 784}, Y_{val} \\in \\mathcal{Z}^{10000}$$  \n",
        "$$X_{test} \\in \\mathcal{R}^{10000 \\times 784}, Y_{test} \\in \\mathcal{Z}^{10000}$$"
      ]
    },
    {
      "metadata": {
        "id": "U243rWh5-2zt",
        "colab_type": "code",
        "outputId": "cd284532-8464-42e2-84a5-2360ebad9195",
        "colab": {
          "base_uri": "https://localhost:8080/",
          "height": 138
        }
      },
      "cell_type": "code",
      "source": [
        "import torch\n",
        "from torchvision import datasets, transforms\n",
        "import torch.nn as nn\n",
        "\n",
        "\n",
        "batch_size = 128\n",
        "train_dataset = datasets.MNIST('./data', train=True, download=True,\n",
        "                   transform=transforms.Compose([\n",
        "                       transforms.ToTensor(),\n",
        "                       transforms.Normalize((0.1307,), (0.3081,))\n",
        "                   ]))\n",
        "test_dataset =  datasets.MNIST('./data', train=False, download=True,\n",
        "                   transform=transforms.Compose([\n",
        "                       transforms.ToTensor(),\n",
        "                       transforms.Normalize((0.1307,), (0.3081,))\n",
        "                   ]))\n",
        "train_dataset, val_dataset = torch.utils.data.random_split(train_dataset, [50000, 10000])\n",
        "print(len(train_dataset), len(val_dataset), len(test_dataset))\n",
        "\n",
        "train_loader = torch.utils.data.DataLoader(train_dataset, batch_size=128, shuffle=True)\n",
        "val_loader = torch.utils.data.DataLoader(val_dataset, batch_size=128, shuffle=False)\n",
        "test_loader = torch.utils.data.DataLoader(test_dataset, batch_size=128, shuffle=False)"
      ],
      "execution_count": 2,
      "outputs": [
        {
          "output_type": "stream",
          "text": [
            "Downloading http://yann.lecun.com/exdb/mnist/train-images-idx3-ubyte.gz\n",
            "Downloading http://yann.lecun.com/exdb/mnist/train-labels-idx1-ubyte.gz\n",
            "Downloading http://yann.lecun.com/exdb/mnist/t10k-images-idx3-ubyte.gz\n",
            "Downloading http://yann.lecun.com/exdb/mnist/t10k-labels-idx1-ubyte.gz\n",
            "Processing...\n",
            "Done!\n",
            "(50000, 10000, 10000)\n"
          ],
          "name": "stdout"
        }
      ]
    },
    {
      "metadata": {
        "id": "D0dq3KT5-2z1",
        "colab_type": "text"
      },
      "cell_type": "markdown",
      "source": [
        "### Inspecting Dataset"
      ]
    },
    {
      "metadata": {
        "id": "SILan0FP-2z3",
        "colab_type": "code",
        "outputId": "5b59566d-2138-4a22-a647-c5fe24b6e442",
        "colab": {
          "base_uri": "https://localhost:8080/",
          "height": 674
        }
      },
      "cell_type": "code",
      "source": [
        "examples = enumerate(train_loader)\n",
        "batch_idx, (example_data, example_targets) = next(examples)  \n",
        "\n",
        "import matplotlib.pyplot as plt\n",
        "\n",
        "fig = plt.figure(figsize=(15, 9))\n",
        "for i in range(6):\n",
        "    plt.subplot(2,3,i+1)\n",
        "    plt.tight_layout()\n",
        "    plt.imshow(example_data[i][0], cmap='gray', interpolation='none')\n",
        "    plt.title(\"Ground Truth: {}\".format(example_targets[i]))\n",
        "plt.show()"
      ],
      "execution_count": 3,
      "outputs": [
        {
          "output_type": "display_data",
          "data": {
            "image/png": "[encoded data removed]",
            "text/plain": [
              "<Figure size 1080x648 with 6 Axes>"
            ]
          },
          "metadata": {
            "tags": []
          }
        }
      ]
    },
    {
      "metadata": {
        "colab_type": "text",
        "id": "lEqtbTROlXuB"
      },
      "cell_type": "markdown",
      "source": [
        "### 2. Model Architecture"
      ]
    },
    {
      "metadata": {
        "colab_type": "code",
        "id": "40ht43Q1JpYI",
        "colab": {}
      },
      "cell_type": "code",
      "source": [
        "class LinearModel(nn.Module):\n",
        "    def __init__(self): \n",
        "        super(LinearModel, self).__init__()\n",
        "        self.linear = nn.Linear(in_features=784, out_features=10, bias=True)\n",
        "    \n",
        "    def forward(self, x):\n",
        "        x = self.linear(x)\n",
        "        return x\n",
        "        \n",
        "class MLPModel(nn.Module):\n",
        "    def __init__(self):\n",
        "        super(MLPModel, self).__init__()\n",
        "        self.linear1 = nn.Linear(in_features=784 , out_features=200)\n",
        "        self.linear2 = nn.Linear(200,10)\n",
        "        self.relu = nn.ReLU()\n",
        "        self.softmax = nn.Softmax()\n",
        "        \n",
        "    def forward(self, x):\n",
        "        x = self.linear1(x)\n",
        "        x = self.relu(x)\n",
        "        x = self.linear2(x)\n",
        "        return x"
      ],
      "execution_count": 0,
      "outputs": []
    },
    {
      "metadata": {
        "colab_type": "text",
        "id": "FgdSvskSotgI"
      },
      "cell_type": "markdown",
      "source": [
        "### 3. Cost Function Define (Loss Function Define)  "
      ]
    },
    {
      "metadata": {
        "colab_type": "code",
        "id": "yzNkZ_uwnufC",
        "colab": {}
      },
      "cell_type": "code",
      "source": [
        "cls_loss = nn.CrossEntropyLoss()\n",
        "\n",
        "#test_pred_y = torch.Tensor([[2,0.1]])"
      ],
      "execution_count": 0,
      "outputs": []
    },
    {
      "metadata": {
        "id": "nguQc-oh-20K",
        "colab_type": "text"
      },
      "cell_type": "markdown",
      "source": [
        "### 4. Train & Evaluation"
      ]
    },
    {
      "metadata": {
        "scrolled": false,
        "id": "CmUZufJS-20L",
        "colab_type": "code",
        "outputId": "6a060c24-357e-4f65-f778-b720ce9cd46e",
        "colab": {
          "base_uri": "https://localhost:8080/",
          "height": 553
        }
      },
      "cell_type": "code",
      "source": [
        "import torch.optim as optim\n",
        "from sklearn.metrics import accuracy_score\n",
        "\n",
        "# ====== Construct Model ====== #\n",
        "#model = LinearModel()\n",
        "\n",
        "model = MLPModel()\n",
        "print('Number of {} parameters'.format(sum(p.numel() for p in model.parameters() if p.requires_grad)))\n",
        "\n",
        "\n",
        "# ===== Construct Optimizer ====== #\n",
        "lr = 0.005 \n",
        "optimizer = optim.SGD(model.parameters(), lr=lr) \n",
        "\n",
        "list_epoch = [] \n",
        "list_train_loss = []\n",
        "list_val_loss = []\n",
        "list_acc = []\n",
        "list_acc_epoch = []\n",
        "\n",
        "epoch = 30\n",
        "for i in range(epoch):\n",
        "    \n",
        "    # ====== Train ====== #\n",
        "    train_loss = 0\n",
        "    model.train() \n",
        "    optimizer.zero_grad() \n",
        "    \n",
        "    for input_X, true_y in train_loader:\n",
        "        #print(type(input_X))\n",
        "        #print(input_X)\n",
        "        input_X = input_X.squeeze()\n",
        "        input_X = input_X.view(-1, 784)\n",
        "        pred_y = model(input_X)\n",
        "\n",
        "        loss = cls_loss(pred_y.squeeze(), true_y)\n",
        "        loss.backward() \n",
        "        optimizer.step() \n",
        "        train_loss += loss.detach().numpy()\n",
        "    train_loss = train_loss / len(train_loader)\n",
        "    list_train_loss.append(train_loss)\n",
        "    list_epoch.append(i)\n",
        "    \n",
        "    \n",
        "    # ====== Validation ====== #\n",
        "    val_loss = 0\n",
        "    model.eval()\n",
        "    optimizer.zero_grad()\n",
        "    \n",
        "    for input_X, true_y in val_loader:\n",
        "        input_X = input_X.squeeze()\n",
        "        input_X = input_X.view(-1, 784)\n",
        "        pred_y = model(input_X)\n",
        "\n",
        "        loss = cls_loss(pred_y.squeeze(), true_y)\n",
        "        val_loss += loss.detach().numpy()\n",
        "    val_loss = val_loss / len(val_loader)\n",
        "    list_val_loss.append(val_loss)\n",
        "\n",
        "\n",
        "    # ====== Evaluation ======= #\n",
        "    correct = 0\n",
        "    model.eval()\n",
        "    optimizer.zero_grad()\n",
        "\n",
        "    for input_X, true_y in test_loader:\n",
        "        input_X = input_X.squeeze()\n",
        "        input_X = input_X.view(-1, 784)\n",
        "        pred_y = model(input_X).max(1, keepdim=True)[1].squeeze()\n",
        "        correct += pred_y.eq(true_y).sum()\n",
        "\n",
        "    acc = correct.numpy() / float(len(test_loader.dataset))\n",
        "    list_acc.append(acc)\n",
        "    list_acc_epoch.append(i)\n",
        "    \n",
        "    print('Epoch: {}, Train Loss: {}, Val Loss: {}, Test Acc: {}%'.format(i, train_loss, val_loss, acc*100))"
      ],
      "execution_count": 15,
      "outputs": [
        {
          "output_type": "stream",
          "text": [
            "Number of 159010 parameters\n",
            "Epoch: 0, Train Loss: 1.06115357145, Val Loss: 0.648049920797, Test Acc: 87.93%\n",
            "Epoch: 1, Train Loss: 0.455378878662, Val Loss: 0.470436187296, Test Acc: 89.15%\n",
            "Epoch: 2, Train Loss: 0.350212852897, Val Loss: 0.436220868856, Test Acc: 91.88%\n",
            "Epoch: 3, Train Loss: 0.313544475533, Val Loss: 0.431970440323, Test Acc: 91.44%\n",
            "Epoch: 4, Train Loss: 0.280465987466, Val Loss: 0.420146329682, Test Acc: 91.62%\n",
            "Epoch: 5, Train Loss: 0.265970883067, Val Loss: 0.3797336664, Test Acc: 93.66%\n",
            "Epoch: 6, Train Loss: 0.23863318028, Val Loss: 0.388506215019, Test Acc: 93.03%\n",
            "Epoch: 7, Train Loss: 0.238196523617, Val Loss: 0.384671621025, Test Acc: 93.68%\n",
            "Epoch: 8, Train Loss: 0.212379709153, Val Loss: 0.356026404879, Test Acc: 93.2%\n",
            "Epoch: 9, Train Loss: 0.203988135204, Val Loss: 0.3602998724, Test Acc: 94.42%\n",
            "Epoch: 10, Train Loss: 0.173630861718, Val Loss: 0.307520701397, Test Acc: 94.4%\n",
            "Epoch: 11, Train Loss: 0.171939016256, Val Loss: 0.413904862785, Test Acc: 93.5%\n",
            "Epoch: 12, Train Loss: 0.178454667501, Val Loss: 0.375024904132, Test Acc: 94.0%\n",
            "Epoch: 13, Train Loss: 0.182413119656, Val Loss: 0.333856202379, Test Acc: 94.62%\n",
            "Epoch: 14, Train Loss: 0.165472651005, Val Loss: 0.312423560438, Test Acc: 93.83%\n",
            "Epoch: 15, Train Loss: 0.164401061861, Val Loss: 0.363637279766, Test Acc: 94.38%\n",
            "Epoch: 16, Train Loss: 0.165516964777, Val Loss: 0.367466862255, Test Acc: 93.66%\n",
            "Epoch: 17, Train Loss: 0.161388485347, Val Loss: 0.40125578076, Test Acc: 93.6%\n",
            "Epoch: 18, Train Loss: 0.16873117432, Val Loss: 0.358045587906, Test Acc: 93.46%\n",
            "Epoch: 19, Train Loss: 0.15988047652, Val Loss: 0.394367732343, Test Acc: 94.27%\n",
            "Epoch: 20, Train Loss: 0.151978985876, Val Loss: 0.35806096008, Test Acc: 94.17%\n",
            "Epoch: 21, Train Loss: 0.139285476026, Val Loss: 0.349524326269, Test Acc: 94.83%\n",
            "Epoch: 22, Train Loss: 0.131829286575, Val Loss: 0.371680876358, Test Acc: 94.96%\n",
            "Epoch: 23, Train Loss: 0.147566620303, Val Loss: 0.3821686859, Test Acc: 94.59%\n",
            "Epoch: 24, Train Loss: 0.124082279075, Val Loss: 0.409709394827, Test Acc: 94.6%\n",
            "Epoch: 25, Train Loss: 0.136504942918, Val Loss: 0.343397156206, Test Acc: 94.45%\n",
            "Epoch: 26, Train Loss: 0.149382427368, Val Loss: 0.445918336204, Test Acc: 94.81%\n",
            "Epoch: 27, Train Loss: 0.145643392897, Val Loss: 0.442559452892, Test Acc: 93.93%\n",
            "Epoch: 28, Train Loss: 0.166389950282, Val Loss: 0.427882426359, Test Acc: 93.34%\n",
            "Epoch: 29, Train Loss: 0.186003568508, Val Loss: 0.407570293715, Test Acc: 92.64%\n"
          ],
          "name": "stdout"
        }
      ]
    },
    {
      "metadata": {
        "id": "09WNwi7O-20P",
        "colab_type": "text"
      },
      "cell_type": "markdown",
      "source": [
        "### 5. Report Experiment  \n",
        "학습 과정에서 기록했던 train_loss와 val_loss를 그려봅시다.   \n",
        "Loss가 꾸준히 줄어드는지 확인하고 val_loss가 증가하기 시킨다면 그 이상의 학습은 점점 모델의 성능을 망침을 뜻합니다. \n",
        "그 옆에는 Epoch에 따라서 MAE metric이 얼마나 감소하는지 확인해봅시다."
      ]
    },
    {
      "metadata": {
        "scrolled": true,
        "id": "Vza6K0z9-20R",
        "colab_type": "code",
        "outputId": "dc2f1bce-7934-4b8f-c3b7-0e142895de19",
        "colab": {
          "base_uri": "https://localhost:8080/",
          "height": 349
        }
      },
      "cell_type": "code",
      "source": [
        "fig = plt.figure(figsize=(15,5))\n",
        "\n",
        "# ====== Loss Fluctuation ====== #\n",
        "ax1 = fig.add_subplot(1, 2, 1)\n",
        "ax1.plot(list_epoch, list_train_loss, label='train_loss')\n",
        "ax1.plot(list_epoch, list_val_loss, '--', label='val_loss')\n",
        "ax1.set_xlabel('epoch')\n",
        "ax1.set_ylabel('loss')\n",
        "ax1.grid()\n",
        "ax1.legend()\n",
        "ax1.set_title('epoch vs loss')\n",
        "\n",
        "# ====== Metric Fluctuation ====== #\n",
        "ax2 = fig.add_subplot(1, 2, 2)\n",
        "ax2.plot(list_acc_epoch, list_acc, marker='x', label='Accuracy metric')\n",
        "ax2.set_xlabel('epoch')\n",
        "ax2.set_ylabel('Acc')\n",
        "ax2.grid()\n",
        "ax2.legend()\n",
        "ax2.set_title('epoch vs Accuracy')\n",
        "\n",
        "plt.show()"
      ],
      "execution_count": 16,
      "outputs": [
        {
          "output_type": "display_data",
          "data": {
            "image/png": "[encoded data removed]",
            "text/plain": [
              "<Figure size 1080x360 with 2 Axes>"
            ]
          },
          "metadata": {
            "tags": []
          }
        }
      ]
    },
    {
      "metadata": {
        "id": "goPgBWHHt8W2",
        "colab_type": "code",
        "colab": {}
      },
      "cell_type": "code",
      "source": [
        ""
      ],
      "execution_count": 0,
      "outputs": []
    }
  ]
}